{
  "cells": [
    {
      "cell_type": "markdown",
      "metadata": {
        "id": "view-in-github",
        "colab_type": "text"
      },
      "source": [
        "<a href=\"https://colab.research.google.com/github/lvelho/blog/blob/master/explore_siren.ipynb\" target=\"_parent\"><img src=\"https://colab.research.google.com/assets/colab-badge.svg\" alt=\"Open In Colab\"/></a>"
      ]
    },
    {
      "cell_type": "markdown",
      "metadata": {
        "id": "Z0-L0V9_EAqk"
      },
      "source": [
        "# Siren\n",
        "\n",
        "This is a colab to explore properties of the Siren MLP.\n",
        "\n",
        "We will first implement a streamlined version of Siren for fast experimentation.\n",
        "\n",
        "**Make sure that you have enabled the GPU under Edit -> Notebook Settings!**\n",
        "\n",
        "We will then reproduce the following results from the paper: \n",
        "* [Fitting an image](#section_1)\n",
        "* [Solving Poisson's equation](#section_2)\n",
        "\n",
        "Let's go! First, some imports, and a function to quickly generate coordinate grids."
      ]
    },
    {
      "cell_type": "code",
      "execution_count": null,
      "metadata": {
        "id": "q2QnlFOUEAqm"
      },
      "outputs": [],
      "source": [
        "import torch\n",
        "from torch import nn\n",
        "import torch.nn.functional as F\n",
        "from torch.utils.data import DataLoader, Dataset\n",
        "import os\n",
        "\n",
        "from PIL import Image\n",
        "from torchvision.transforms import Resize, Compose, ToTensor, Normalize\n",
        "import numpy as np\n",
        "import skimage\n",
        "import matplotlib.pyplot as plt\n",
        "\n",
        "import time\n",
        "\n",
        "def get_mgrid(sidelen, dim=2):\n",
        "    '''Generates a flattened grid of (x,y,...) coordinates in a range of -1 to 1.\n",
        "    sidelen: int\n",
        "    dim: int'''\n",
        "    tensors = tuple(dim * [torch.linspace(-1, 1, steps=sidelen)])\n",
        "    mgrid = torch.stack(torch.meshgrid(*tensors), dim=-1)\n",
        "    mgrid = mgrid.reshape(-1, dim)\n",
        "    return mgrid"
      ]
    },
    {
      "cell_type": "markdown",
      "metadata": {
        "id": "Qu5kCkiCEAqo"
      },
      "source": [
        "Now, we code up the sine layer, which will be the basic building block of SIREN."
      ]
    },
    {
      "cell_type": "code",
      "execution_count": null,
      "metadata": {
        "id": "vFv6ndhNEAqo"
      },
      "outputs": [],
      "source": [
        "class SineLayer(nn.Module):\n",
        "    # See paper sec. 3.2, final paragraph, and supplement Sec. 1.5 for discussion of omega_0.\n",
        "    \n",
        "    # If is_first=True, omega_0 is a frequency factor which simply multiplies the activations before the \n",
        "    # nonlinearity. Different signals may require different omega_0 in the first layer - this is a \n",
        "    # hyperparameter.\n",
        "    \n",
        "    # If is_first=False, then the weights will be divided by omega_0 so as to keep the magnitude of \n",
        "    # activations constant, but boost gradients to the weight matrix (see supplement Sec. 1.5)\n",
        "    \n",
        "    def __init__(self, in_features, out_features, bias=True,\n",
        "                 is_first=False, omega_0=30):\n",
        "        super().__init__()\n",
        "        self.omega_0 = omega_0\n",
        "        self.is_first = is_first\n",
        "        \n",
        "        self.in_features = in_features\n",
        "        self.linear = nn.Linear(in_features, out_features, bias=bias)\n",
        "        \n",
        "        self.init_weights()\n",
        "    \n",
        "    def init_weights(self):\n",
        "        with torch.no_grad():\n",
        "            if self.is_first:\n",
        "                self.linear.weight.uniform_(-1 / self.in_features, \n",
        "                                             1 / self.in_features)      \n",
        "            else:\n",
        "                self.linear.weight.uniform_(-np.sqrt(6 / self.in_features) / self.omega_0, \n",
        "                                             np.sqrt(6 / self.in_features) / self.omega_0)\n",
        "        \n",
        "    def forward(self, input):\n",
        "        return torch.sin(self.omega_0 * self.linear(input))\n",
        "    \n",
        "    def forward_with_intermediate(self, input): \n",
        "        # For visualization of activation distributions\n",
        "        intermediate = self.omega_0 * self.linear(input)\n",
        "        return torch.sin(intermediate), intermediate\n",
        "    \n",
        "    \n",
        "class Siren(nn.Module):\n",
        "    def __init__(self, in_features, hidden_features, hidden_layers, out_features, outermost_linear=False, \n",
        "                 first_omega_0=30, hidden_omega_0=30.):\n",
        "        super().__init__()\n",
        "        \n",
        "        self.net = []\n",
        "        self.net.append(SineLayer(in_features, hidden_features, \n",
        "                                  is_first=True, omega_0=first_omega_0))\n",
        "\n",
        "        for i in range(hidden_layers):\n",
        "            self.net.append(SineLayer(hidden_features, hidden_features, \n",
        "                                      is_first=False, omega_0=hidden_omega_0))\n",
        "\n",
        "        if outermost_linear:\n",
        "            final_linear = nn.Linear(hidden_features, out_features)\n",
        "            \n",
        "            with torch.no_grad():\n",
        "                final_linear.weight.uniform_(-np.sqrt(6 / hidden_features) / hidden_omega_0, \n",
        "                                              np.sqrt(6 / hidden_features) / hidden_omega_0)\n",
        "                \n",
        "            self.net.append(final_linear)\n",
        "        else:\n",
        "            self.net.append(SineLayer(hidden_features, out_features, \n",
        "                                      is_first=False, omega_0=hidden_omega_0))\n",
        "        \n",
        "        self.net = nn.Sequential(*self.net)\n",
        "    \n",
        "    def forward(self, coords):\n",
        "        coords = coords.clone().detach().requires_grad_(True) # allows to take derivative w.r.t. input\n",
        "        output = self.net(coords)\n",
        "        return output, coords        \n",
        "\n",
        "    def forward_with_activations(self, coords, retain_grad=False):\n",
        "        '''Returns not only model output, but also intermediate activations.\n",
        "        Only used for visualizing activations later!'''\n",
        "        activations = OrderedDict()\n",
        "\n",
        "        activation_count = 0\n",
        "        x = coords.clone().detach().requires_grad_(True)\n",
        "        activations['input'] = x\n",
        "        for i, layer in enumerate(self.net):\n",
        "            if isinstance(layer, SineLayer):\n",
        "                x, intermed = layer.forward_with_intermediate(x)\n",
        "                \n",
        "                if retain_grad:\n",
        "                    x.retain_grad()\n",
        "                    intermed.retain_grad()\n",
        "                    \n",
        "                activations['_'.join((str(layer.__class__), \"%d\" % activation_count))] = intermed\n",
        "                activation_count += 1\n",
        "            else: \n",
        "                x = layer(x)\n",
        "                \n",
        "                if retain_grad:\n",
        "                    x.retain_grad()\n",
        "                    \n",
        "            activations['_'.join((str(layer.__class__), \"%d\" % activation_count))] = x\n",
        "            activation_count += 1\n",
        "\n",
        "        return activations"
      ]
    },
    {
      "cell_type": "markdown",
      "metadata": {
        "id": "0vAEiUJyEAqq"
      },
      "source": [
        "And finally, differential operators that allow us to leverage autograd to compute gradients, the laplacian, etc."
      ]
    },
    {
      "cell_type": "code",
      "execution_count": null,
      "metadata": {
        "id": "kcLvGUQlEAqr"
      },
      "outputs": [],
      "source": [
        "def laplace(y, x):\n",
        "    grad = gradient(y, x)\n",
        "    return divergence(grad, x)\n",
        "\n",
        "\n",
        "def divergence(y, x):\n",
        "    div = 0.\n",
        "    for i in range(y.shape[-1]):\n",
        "        div += torch.autograd.grad(y[..., i], x, torch.ones_like(y[..., i]), create_graph=True)[0][..., i:i+1]\n",
        "    return div\n",
        "\n",
        "\n",
        "def gradient(y, x, grad_outputs=None):\n",
        "    if grad_outputs is None:\n",
        "        grad_outputs = torch.ones_like(y)\n",
        "    grad = torch.autograd.grad(y, [x], grad_outputs=grad_outputs, create_graph=True)[0]\n",
        "    return grad"
      ]
    },
    {
      "cell_type": "markdown",
      "metadata": {
        "id": "WfCq1xA6EAqr"
      },
      "source": [
        "# Experiments\n",
        "\n",
        "For the image fitting and poisson experiments, we'll use the classic cameraman image."
      ]
    },
    {
      "cell_type": "code",
      "execution_count": null,
      "metadata": {
        "id": "ONninlHtEAqs"
      },
      "outputs": [],
      "source": [
        "def get_cameraman_tensor(sidelength):\n",
        "    img = Image.fromarray(skimage.data.camera())        \n",
        "    transform = Compose([\n",
        "        Resize(sidelength),\n",
        "        ToTensor(),\n",
        "        Normalize(torch.Tensor([0.5]), torch.Tensor([0.5]))\n",
        "    ])\n",
        "    img = transform(img)\n",
        "    return img"
      ]
    },
    {
      "cell_type": "markdown",
      "metadata": {
        "id": "GRzR0OgEEAqs"
      },
      "source": [
        "<a id='section_1'></a>\n",
        "## Fitting an image\n",
        "\n",
        "First, let's simply fit that image!\n",
        "\n",
        "We seek to parameterize a greyscale image $f(x)$ with pixel coordinates $x$ with a SIREN $\\Phi(x)$.\n",
        "\n",
        "That is we seek the function $\\Phi$ such that:\n",
        "$\\mathcal{L}=\\int_{\\Omega} \\lVert \\Phi(\\mathbf{x}) - f(\\mathbf{x}) \\rVert\\mathrm{d}\\mathbf{x}$\n",
        " is minimized, in which $\\Omega$ is the domain of the image. \n",
        " \n",
        "We write a little dataset that does nothing except calculating per-pixel coordinates:"
      ]
    },
    {
      "cell_type": "code",
      "execution_count": null,
      "metadata": {
        "id": "ZEiy32c_EAqt"
      },
      "outputs": [],
      "source": [
        "class ImageFitting(Dataset):\n",
        "    def __init__(self, sidelength):\n",
        "        super().__init__()\n",
        "        img = get_cameraman_tensor(sidelength)\n",
        "        self.pixels = img.permute(1, 2, 0).view(-1, 1)\n",
        "        self.coords = get_mgrid(sidelength, 2)\n",
        "\n",
        "    def __len__(self):\n",
        "        return 1\n",
        "\n",
        "    def __getitem__(self, idx):    \n",
        "        if idx > 0: raise IndexError\n",
        "            \n",
        "        return self.coords, self.pixels"
      ]
    },
    {
      "cell_type": "markdown",
      "metadata": {
        "pycharm": {
          "name": "#%% md\n"
        },
        "id": "CJrjBb-sEAqu"
      },
      "source": [
        "Let's instantiate the dataset and our Siren. As pixel coordinates are 2D, the siren has 2 input features, and since the image is grayscale, it has one output channel."
      ]
    },
    {
      "cell_type": "code",
      "execution_count": null,
      "metadata": {
        "id": "YZ1wyqctEAqu"
      },
      "outputs": [],
      "source": [
        "cameraman = ImageFitting(256)\n",
        "dataloader = DataLoader(cameraman, batch_size=1, pin_memory=True, num_workers=0)\n",
        "\n",
        "img_siren = Siren(in_features=2, out_features=1, hidden_features=256, \n",
        "                  hidden_layers=3, outermost_linear=True)\n",
        "img_siren.cuda()"
      ]
    },
    {
      "cell_type": "markdown",
      "metadata": {
        "id": "p2gpHBBfEAqv"
      },
      "source": [
        "We now fit Siren in a simple training loop. Within only hundreds of iterations, the image and its gradients are approximated well."
      ]
    },
    {
      "cell_type": "code",
      "execution_count": null,
      "metadata": {
        "id": "TlsCYZu0EAqv"
      },
      "outputs": [],
      "source": [
        "total_steps = 500 # Since the whole image is our dataset, this just means 500 gradient descent steps.\n",
        "steps_til_summary = 10\n",
        "\n",
        "optim = torch.optim.Adam(lr=1e-4, params=img_siren.parameters())\n",
        "\n",
        "model_input, ground_truth = next(iter(dataloader))\n",
        "model_input, ground_truth = model_input.cuda(), ground_truth.cuda()\n",
        "\n",
        "for step in range(total_steps):\n",
        "    model_output, coords = img_siren(model_input)    \n",
        "    loss = ((model_output - ground_truth)**2).mean()\n",
        "    \n",
        "    if not step % steps_til_summary:\n",
        "        print(\"Step %d, Total loss %0.6f\" % (step, loss))\n",
        "        img_grad = gradient(model_output, coords)\n",
        "        img_laplacian = laplace(model_output, coords)\n",
        "\n",
        "        fig, axes = plt.subplots(1,3, figsize=(18,6))\n",
        "        axes[0].imshow(model_output.cpu().view(256,256).detach().numpy())\n",
        "        axes[1].imshow(img_grad.norm(dim=-1).cpu().view(256,256).detach().numpy())\n",
        "        axes[2].imshow(img_laplacian.cpu().view(256,256).detach().numpy())\n",
        "        plt.show()\n",
        "\n",
        "    optim.zero_grad()\n",
        "    loss.backward()\n",
        "    optim.step()"
      ]
    },
    {
      "cell_type": "markdown",
      "metadata": {
        "id": "nQ95_HJQEAq4"
      },
      "source": [
        "<a id='section_3'></a>\n",
        "## Solving Poisson's equation\n",
        "\n",
        "Now, let's make it a bit harder. Let's say we want to reconstruct an image but we only have access to its gradients!\n",
        "\n",
        "That is, we now seek the function $\\Phi$ such that:\n",
        "$\\mathcal{L}=\\int_{\\Omega} \\lVert \\nabla\\Phi(\\mathbf{x}) - \\nabla f(\\mathbf{x}) \\rVert\\mathrm{d}\\mathbf{x}$\n",
        " is minimized, in which $\\Omega$ is the domain of the image. "
      ]
    },
    {
      "cell_type": "code",
      "execution_count": null,
      "metadata": {
        "pycharm": {
          "name": "#%%\n"
        },
        "id": "0arQw-bKEAq5"
      },
      "outputs": [],
      "source": [
        "import scipy.ndimage\n",
        "    \n",
        "class PoissonEqn(Dataset):\n",
        "    def __init__(self, sidelength):\n",
        "        super().__init__()\n",
        "        img = get_cameraman_tensor(sidelength)\n",
        "        \n",
        "        # Compute gradient and laplacian       \n",
        "        grads_x = scipy.ndimage.sobel(img.numpy(), axis=1).squeeze(0)[..., None]\n",
        "        grads_y = scipy.ndimage.sobel(img.numpy(), axis=2).squeeze(0)[..., None]\n",
        "        grads_x, grads_y = torch.from_numpy(grads_x), torch.from_numpy(grads_y)\n",
        "                \n",
        "        self.grads = torch.stack((grads_x, grads_y), dim=-1).view(-1, 2)\n",
        "        self.laplace = scipy.ndimage.laplace(img.numpy()).squeeze(0)[..., None]\n",
        "        self.laplace = torch.from_numpy(self.laplace)\n",
        "        \n",
        "        self.pixels = img.permute(1, 2, 0).view(-1, 1)\n",
        "        self.coords = get_mgrid(sidelength, 2)\n",
        "\n",
        "    def __len__(self):\n",
        "        return 1\n",
        "\n",
        "    def __getitem__(self, idx):\n",
        "        return self.coords, {'pixels':self.pixels, 'grads':self.grads, 'laplace':self.laplace}"
      ]
    },
    {
      "cell_type": "markdown",
      "metadata": {
        "pycharm": {
          "name": "#%% md\n"
        },
        "id": "mHM_CuI3EAq7"
      },
      "source": [
        "#### Instantiate SIREN model"
      ]
    },
    {
      "cell_type": "code",
      "execution_count": null,
      "metadata": {
        "pycharm": {
          "name": "#%%\n"
        },
        "id": "4XYHnQKYEAq9"
      },
      "outputs": [],
      "source": [
        "cameraman_poisson = PoissonEqn(128)\n",
        "dataloader = DataLoader(cameraman_poisson, batch_size=1, pin_memory=True, num_workers=0)\n",
        "\n",
        "poisson_siren = Siren(in_features=2, out_features=1, hidden_features=256, \n",
        "                      hidden_layers=3, outermost_linear=True)\n",
        "poisson_siren.cuda()"
      ]
    },
    {
      "cell_type": "markdown",
      "metadata": {
        "pycharm": {
          "name": "#%% md\n"
        },
        "id": "sfcrDP2aEAq_"
      },
      "source": [
        "#### Define the loss function"
      ]
    },
    {
      "cell_type": "code",
      "execution_count": null,
      "metadata": {
        "pycharm": {
          "name": "#%%\n"
        },
        "id": "G5mXNiXREAq_"
      },
      "outputs": [],
      "source": [
        "def gradients_mse(model_output, coords, gt_gradients):\n",
        "    # compute gradients on the model\n",
        "    gradients = gradient(model_output, coords)\n",
        "    # compare them with the ground-truth\n",
        "    gradients_loss = torch.mean((gradients - gt_gradients).pow(2).sum(-1))\n",
        "    return gradients_loss"
      ]
    },
    {
      "cell_type": "markdown",
      "metadata": {
        "pycharm": {
          "name": "#%% md\n"
        },
        "id": "Ljg9qfGqEArA"
      },
      "source": [
        "#### Train the model"
      ]
    },
    {
      "cell_type": "code",
      "execution_count": null,
      "metadata": {
        "pycharm": {
          "is_executing": true,
          "name": "#%%\n"
        },
        "id": "3AOwytjKEArA"
      },
      "outputs": [],
      "source": [
        "total_steps = 1000\n",
        "steps_til_summary = 10\n",
        "\n",
        "optim = torch.optim.Adam(lr=1e-4, params=poisson_siren.parameters())\n",
        "\n",
        "model_input, gt = next(iter(dataloader))\n",
        "gt = {key: value.cuda() for key, value in gt.items()}\n",
        "model_input = model_input.cuda()\n",
        "\n",
        "for step in range(total_steps):\n",
        "    start_time = time.time()\n",
        "\n",
        "    model_output, coords = poisson_siren(model_input)\n",
        "    train_loss = gradients_mse(model_output, coords, gt['grads'])\n",
        "\n",
        "    if not step % steps_til_summary:\n",
        "        print(\"Step %d, Total loss %0.6f, iteration time %0.6f\" % (step, train_loss, time.time() - start_time))\n",
        "\n",
        "        img_grad = gradient(model_output, coords)\n",
        "        img_laplacian = laplace(model_output, coords)\n",
        "\n",
        "        fig, axes = plt.subplots(1, 3, figsize=(18, 6))\n",
        "        axes[0].imshow(model_output.cpu().view(128,128).detach().numpy())\n",
        "        axes[1].imshow(img_grad.cpu().norm(dim=-1).view(128,128).detach().numpy())\n",
        "        axes[2].imshow(img_laplacian.cpu().view(128,128).detach().numpy())\n",
        "        plt.show()\n",
        "        \n",
        "    optim.zero_grad()\n",
        "    train_loss.backward()\n",
        "    optim.step()"
      ]
    }
  ],
  "metadata": {
    "kernelspec": {
      "display_name": "Python 3",
      "language": "python",
      "name": "python3"
    },
    "language_info": {
      "codemirror_mode": {
        "name": "ipython",
        "version": 3
      },
      "file_extension": ".py",
      "mimetype": "text/x-python",
      "name": "python",
      "nbconvert_exporter": "python",
      "pygments_lexer": "ipython3",
      "version": "3.7.4"
    },
    "pycharm": {
      "stem_cell": {
        "cell_type": "raw",
        "metadata": {
          "collapsed": false
        },
        "source": []
      }
    },
    "colab": {
      "name": "explore_siren.ipynb",
      "provenance": [],
      "include_colab_link": true
    }
  },
  "nbformat": 4,
  "nbformat_minor": 0
}